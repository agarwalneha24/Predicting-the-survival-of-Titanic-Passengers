{
 "cells": [
  {
   "cell_type": "code",
   "execution_count": 1,
   "metadata": {},
   "outputs": [
    {
     "name": "stderr",
     "output_type": "stream",
     "text": [
      "Using TensorFlow backend.\n"
     ]
    }
   ],
   "source": [
    "from keras.models import Sequential\n",
    "from keras.layers import Dense\n",
    "\n",
    "from keras.optimizers import Adam\n",
    "from keras.losses import categorical_crossentropy\n",
    "\n",
    "import numpy as np\n",
    "import matplotlib.pyplot as plt\n",
    "from sklearn.datasets import make_blobs\n",
    "from sklearn.model_selection import train_test_split\n",
    "from sklearn.preprocessing import OneHotEncoder\n",
    "import pandas as pd"
   ]
  },
  {
   "cell_type": "code",
   "execution_count": 2,
   "metadata": {},
   "outputs": [],
   "source": [
    "data = pd.read_csv(\"../datasets/mnist_train_small.csv\").values\n",
    "X = data[:, 2:]\n",
    "y = data[:, 1]\n"
   ]
  },
  {
   "cell_type": "code",
   "execution_count": 5,
   "metadata": {},
   "outputs": [],
   "source": [
    "ohe = OneHotEncoder(categories=\"auto\")"
   ]
  },
  {
   "cell_type": "code",
   "execution_count": 6,
   "metadata": {},
   "outputs": [],
   "source": [
    "y_hot = ohe.fit_transform(y.reshape(-1, 1)).todense()"
   ]
  },
  {
   "cell_type": "code",
   "execution_count": 7,
   "metadata": {},
   "outputs": [],
   "source": [
    "X_train, X_test, y_train, y_test = train_test_split(\n",
    "...     X, y_hot, test_size=0.33, random_state=42)"
   ]
  },
  {
   "cell_type": "code",
   "execution_count": 26,
   "metadata": {},
   "outputs": [],
   "source": [
    "hidden_1 = Dense(200, activation=\"tanh\", input_shape=(X.shape[1],))\n",
    "hidden_2 = Dense(70, activation=\"tanh\")\n",
    "hidden_3 = Dense(20, activation=\"tanh\")\n",
    "out = Dense(y_hot.shape[1], activation=\"softmax\")"
   ]
  },
  {
   "cell_type": "code",
   "execution_count": 27,
   "metadata": {},
   "outputs": [
    {
     "name": "stdout",
     "output_type": "stream",
     "text": [
      "_________________________________________________________________\n",
      "Layer (type)                 Output Shape              Param #   \n",
      "=================================================================\n",
      "dense_16 (Dense)             (None, 200)               157000    \n",
      "_________________________________________________________________\n",
      "dense_17 (Dense)             (None, 70)                14070     \n",
      "_________________________________________________________________\n",
      "dense_18 (Dense)             (None, 20)                1420      \n",
      "_________________________________________________________________\n",
      "dense_19 (Dense)             (None, 10)                210       \n",
      "=================================================================\n",
      "Total params: 172,700\n",
      "Trainable params: 172,700\n",
      "Non-trainable params: 0\n",
      "_________________________________________________________________\n"
     ]
    }
   ],
   "source": [
    "model = Sequential()\n",
    "model.add(hidden_1)\n",
    "model.add(hidden_2)\n",
    "model.add(hidden_3)\n",
    "model.add(out)\n",
    "model.summary()"
   ]
  },
  {
   "cell_type": "code",
   "execution_count": 28,
   "metadata": {},
   "outputs": [],
   "source": [
    "model.compile(optimizer=\"adam\", loss=\"categorical_crossentropy\", metrics=[\"accuracy\"])"
   ]
  },
  {
   "cell_type": "code",
   "execution_count": 29,
   "metadata": {},
   "outputs": [
    {
     "name": "stdout",
     "output_type": "stream",
     "text": [
      "Epoch 1/50\n",
      "5360/5360 [==============================] - 1s 95us/step - loss: 1.5568 - acc: 0.5549\n",
      "Epoch 2/50\n",
      "5360/5360 [==============================] - 0s 31us/step - loss: 0.9231 - acc: 0.7853\n",
      "Epoch 3/50\n",
      "5360/5360 [==============================] - 0s 44us/step - loss: 0.7143 - acc: 0.8418\n",
      "Epoch 4/50\n",
      "5360/5360 [==============================] - 0s 42us/step - loss: 0.5881 - acc: 0.8646\n",
      "Epoch 5/50\n",
      "5360/5360 [==============================] - 0s 36us/step - loss: 0.5034 - acc: 0.8854\n",
      "Epoch 6/50\n",
      "5360/5360 [==============================] - 0s 29us/step - loss: 0.4501 - acc: 0.8937\n",
      "Epoch 7/50\n",
      "5360/5360 [==============================] - 0s 42us/step - loss: 0.4181 - acc: 0.8976\n",
      "Epoch 8/50\n",
      "5360/5360 [==============================] - 0s 39us/step - loss: 0.4024 - acc: 0.8996\n",
      "Epoch 9/50\n",
      "5360/5360 [==============================] - 0s 40us/step - loss: 0.3773 - acc: 0.9080\n",
      "Epoch 10/50\n",
      "5360/5360 [==============================] - 0s 39us/step - loss: 0.3446 - acc: 0.9131\n",
      "Epoch 11/50\n",
      "5360/5360 [==============================] - 0s 40us/step - loss: 0.3257 - acc: 0.9146\n",
      "Epoch 12/50\n",
      "5360/5360 [==============================] - 0s 46us/step - loss: 0.3150 - acc: 0.9155\n",
      "Epoch 13/50\n",
      "5360/5360 [==============================] - 0s 44us/step - loss: 0.3169 - acc: 0.9147\n",
      "Epoch 14/50\n",
      "5360/5360 [==============================] - 0s 47us/step - loss: 0.3011 - acc: 0.9181\n",
      "Epoch 15/50\n",
      "5360/5360 [==============================] - 0s 46us/step - loss: 0.2946 - acc: 0.9174\n",
      "Epoch 16/50\n",
      "5360/5360 [==============================] - 0s 39us/step - loss: 0.2910 - acc: 0.9157\n",
      "Epoch 17/50\n",
      "5360/5360 [==============================] - 0s 45us/step - loss: 0.3005 - acc: 0.9125\n",
      "Epoch 18/50\n",
      "5360/5360 [==============================] - 0s 42us/step - loss: 0.2950 - acc: 0.9147\n",
      "Epoch 19/50\n",
      "5360/5360 [==============================] - 0s 45us/step - loss: 0.2625 - acc: 0.9233\n",
      "Epoch 20/50\n",
      "5360/5360 [==============================] - 0s 46us/step - loss: 0.2756 - acc: 0.9216\n",
      "Epoch 21/50\n",
      "5360/5360 [==============================] - 0s 40us/step - loss: 0.2555 - acc: 0.9304\n",
      "Epoch 22/50\n",
      "5360/5360 [==============================] - 0s 45us/step - loss: 0.2475 - acc: 0.9306\n",
      "Epoch 23/50\n",
      "5360/5360 [==============================] - 0s 44us/step - loss: 0.2431 - acc: 0.9328\n",
      "Epoch 24/50\n",
      "5360/5360 [==============================] - 0s 39us/step - loss: 0.2415 - acc: 0.9300\n",
      "Epoch 25/50\n",
      "5360/5360 [==============================] - 0s 46us/step - loss: 0.2490 - acc: 0.9265\n",
      "Epoch 26/50\n",
      "5360/5360 [==============================] - 0s 45us/step - loss: 0.2477 - acc: 0.9250\n",
      "Epoch 27/50\n",
      "5360/5360 [==============================] - 0s 42us/step - loss: 0.2393 - acc: 0.9315\n",
      "Epoch 28/50\n",
      "5360/5360 [==============================] - 0s 39us/step - loss: 0.2628 - acc: 0.9213\n",
      "Epoch 29/50\n",
      "5360/5360 [==============================] - 0s 50us/step - loss: 0.2496 - acc: 0.9254\n",
      "Epoch 30/50\n",
      "5360/5360 [==============================] - 0s 43us/step - loss: 0.2500 - acc: 0.9250\n",
      "Epoch 31/50\n",
      "5360/5360 [==============================] - 0s 27us/step - loss: 0.2410 - acc: 0.9287\n",
      "Epoch 32/50\n",
      "5360/5360 [==============================] - 0s 45us/step - loss: 0.2426 - acc: 0.9257\n",
      "Epoch 33/50\n",
      "5360/5360 [==============================] - 0s 42us/step - loss: 0.2398 - acc: 0.9261\n",
      "Epoch 34/50\n",
      "5360/5360 [==============================] - 0s 40us/step - loss: 0.2236 - acc: 0.9368\n",
      "Epoch 35/50\n",
      "5360/5360 [==============================] - 0s 48us/step - loss: 0.2226 - acc: 0.9360\n",
      "Epoch 36/50\n",
      "5360/5360 [==============================] - 0s 34us/step - loss: 0.2362 - acc: 0.9293\n",
      "Epoch 37/50\n",
      "5360/5360 [==============================] - 0s 25us/step - loss: 0.2413 - acc: 0.9280\n",
      "Epoch 38/50\n",
      "5360/5360 [==============================] - 0s 24us/step - loss: 0.2225 - acc: 0.9353\n",
      "Epoch 39/50\n",
      "5360/5360 [==============================] - 0s 25us/step - loss: 0.2293 - acc: 0.9308\n",
      "Epoch 40/50\n",
      "5360/5360 [==============================] - 0s 27us/step - loss: 0.2277 - acc: 0.9310\n",
      "Epoch 41/50\n",
      "5360/5360 [==============================] - 0s 24us/step - loss: 0.2235 - acc: 0.9338\n",
      "Epoch 42/50\n",
      "5360/5360 [==============================] - 0s 35us/step - loss: 0.2289 - acc: 0.9312\n",
      "Epoch 43/50\n",
      "5360/5360 [==============================] - 0s 38us/step - loss: 0.2315 - acc: 0.9297\n",
      "Epoch 44/50\n",
      "5360/5360 [==============================] - 0s 41us/step - loss: 0.2146 - acc: 0.9325\n",
      "Epoch 45/50\n",
      "5360/5360 [==============================] - 0s 27us/step - loss: 0.2007 - acc: 0.9399\n",
      "Epoch 46/50\n",
      "5360/5360 [==============================] - 0s 29us/step - loss: 0.1976 - acc: 0.9392\n",
      "Epoch 47/50\n",
      "5360/5360 [==============================] - 0s 26us/step - loss: 0.1801 - acc: 0.9448\n",
      "Epoch 48/50\n",
      "5360/5360 [==============================] - 0s 53us/step - loss: 0.2009 - acc: 0.9382\n",
      "Epoch 49/50\n",
      "5360/5360 [==============================] - 0s 32us/step - loss: 0.2154 - acc: 0.9347\n",
      "Epoch 50/50\n",
      "5360/5360 [==============================] - 0s 28us/step - loss: 0.2044 - acc: 0.9356\n"
     ]
    },
    {
     "data": {
      "text/plain": [
       "<keras.callbacks.History at 0x12e35e828>"
      ]
     },
     "execution_count": 29,
     "metadata": {},
     "output_type": "execute_result"
    }
   ],
   "source": [
    "model.fit(X_train, y_train, epochs=50, batch_size=200)"
   ]
  },
  {
   "cell_type": "code",
   "execution_count": 30,
   "metadata": {},
   "outputs": [
    {
     "name": "stdout",
     "output_type": "stream",
     "text": [
      "2640/2640 [==============================] - 0s 62us/step\n"
     ]
    },
    {
     "data": {
      "text/plain": [
       "[0.31189059804786334, 0.9041666666666667]"
      ]
     },
     "execution_count": 30,
     "metadata": {},
     "output_type": "execute_result"
    }
   ],
   "source": [
    "model.evaluate(X_test, y_test)"
   ]
  },
  {
   "cell_type": "code",
   "execution_count": 104,
   "metadata": {},
   "outputs": [
    {
     "data": {
      "text/plain": [
       "array([[4.2777192e-02, 9.5406872e-01, 2.2772318e-03, 8.7693235e-04]],\n",
       "      dtype=float32)"
      ]
     },
     "execution_count": 104,
     "metadata": {},
     "output_type": "execute_result"
    }
   ],
   "source": [
    "model.predict(X_test[:1])"
   ]
  },
  {
   "cell_type": "code",
   "execution_count": 105,
   "metadata": {},
   "outputs": [
    {
     "data": {
      "text/plain": [
       "matrix([[0., 1., 0., 0.]])"
      ]
     },
     "execution_count": 105,
     "metadata": {},
     "output_type": "execute_result"
    }
   ],
   "source": [
    "y_test[:1]"
   ]
  },
  {
   "cell_type": "code",
   "execution_count": null,
   "metadata": {},
   "outputs": [],
   "source": []
  },
  {
   "cell_type": "code",
   "execution_count": null,
   "metadata": {},
   "outputs": [],
   "source": []
  }
 ],
 "metadata": {
  "kernelspec": {
   "display_name": "Python 3",
   "language": "python",
   "name": "python3"
  },
  "language_info": {
   "codemirror_mode": {
    "name": "ipython",
    "version": 3
   },
   "file_extension": ".py",
   "mimetype": "text/x-python",
   "name": "python",
   "nbconvert_exporter": "python",
   "pygments_lexer": "ipython3",
   "version": "3.7.3"
  }
 },
 "nbformat": 4,
 "nbformat_minor": 2
}
